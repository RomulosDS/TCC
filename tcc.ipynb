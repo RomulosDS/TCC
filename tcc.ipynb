{
 "cells": [
  {
   "cell_type": "markdown",
   "metadata": {},
   "source": [
    "# Análise de dados de temperatura ambiente X Logs de Alerta (Algoritmo)"
   ]
  },
  {
   "cell_type": "markdown",
   "metadata": {},
   "source": [
    "Este notebook foi executado no seguinte ambiente\n",
    "* Python 3.7.X\n",
    "* Jypyter Notebook 2.1.2\n",
    "* pandas 1.0.3\n",
    "* numpy 1.18.4\n",
    "\n",
    "Antes de executar verifique os requisitos acima e descomprima o arquivo <code>datasets_consolidados.zip</code>."
   ]
  },
  {
   "cell_type": "code",
   "execution_count": 1,
   "metadata": {},
   "outputs": [],
   "source": [
    "import os\n",
    "import numpy as np\n",
    "import pandas as pd"
   ]
  },
  {
   "cell_type": "markdown",
   "metadata": {},
   "source": [
    "## Processamento/Tratamento de Dados"
   ]
  },
  {
   "cell_type": "markdown",
   "metadata": {},
   "source": [
    "Carrega arquivos originais de temperatura e log de servidores."
   ]
  },
  {
   "cell_type": "code",
   "execution_count": 2,
   "metadata": {},
   "outputs": [],
   "source": [
    "temp = pd.read_csv('datasets_consolidados/servidores-inlettemp.csv')\n",
    "logs = pd.read_csv('datasets_consolidados/logs_servidores.csv')"
   ]
  },
  {
   "cell_type": "markdown",
   "metadata": {},
   "source": [
    "Uma amostra das bases de logs e temperatura de servidores em estado original"
   ]
  },
  {
   "cell_type": "code",
   "execution_count": 3,
   "metadata": {
    "scrolled": true
   },
   "outputs": [
    {
     "data": {
      "text/html": [
       "<div>\n",
       "<style scoped>\n",
       "    .dataframe tbody tr th:only-of-type {\n",
       "        vertical-align: middle;\n",
       "    }\n",
       "\n",
       "    .dataframe tbody tr th {\n",
       "        vertical-align: top;\n",
       "    }\n",
       "\n",
       "    .dataframe thead th {\n",
       "        text-align: right;\n",
       "    }\n",
       "</style>\n",
       "<table border=\"1\" class=\"dataframe\">\n",
       "  <thead>\n",
       "    <tr style=\"text-align: right;\">\n",
       "      <th></th>\n",
       "      <th>Server</th>\n",
       "      <th>Average</th>\n",
       "      <th>Peak</th>\n",
       "      <th>Time</th>\n",
       "    </tr>\n",
       "  </thead>\n",
       "  <tbody>\n",
       "    <tr>\n",
       "      <th>0</th>\n",
       "      <td>server01</td>\n",
       "      <td>21</td>\n",
       "      <td>22</td>\n",
       "      <td>Fri Dec 20 21:10:46 2013</td>\n",
       "    </tr>\n",
       "    <tr>\n",
       "      <th>1</th>\n",
       "      <td>server01</td>\n",
       "      <td>-128</td>\n",
       "      <td>-128</td>\n",
       "      <td>Fri Dec 20 22:10:46 2013</td>\n",
       "    </tr>\n",
       "    <tr>\n",
       "      <th>2</th>\n",
       "      <td>server01</td>\n",
       "      <td>-128</td>\n",
       "      <td>-128</td>\n",
       "      <td>Fri Dec 20 23:10:46 2013</td>\n",
       "    </tr>\n",
       "    <tr>\n",
       "      <th>3</th>\n",
       "      <td>server01</td>\n",
       "      <td>-128</td>\n",
       "      <td>-128</td>\n",
       "      <td>Sat Dec 21 00:10:46 2013</td>\n",
       "    </tr>\n",
       "    <tr>\n",
       "      <th>4</th>\n",
       "      <td>server01</td>\n",
       "      <td>-128</td>\n",
       "      <td>-128</td>\n",
       "      <td>Sat Dec 21 01:10:46 2013</td>\n",
       "    </tr>\n",
       "    <tr>\n",
       "      <th>...</th>\n",
       "      <td>...</td>\n",
       "      <td>...</td>\n",
       "      <td>...</td>\n",
       "      <td>...</td>\n",
       "    </tr>\n",
       "    <tr>\n",
       "      <th>1541371</th>\n",
       "      <td>server30</td>\n",
       "      <td>19</td>\n",
       "      <td>20</td>\n",
       "      <td>Thu Jan  2 06:01:57 2020</td>\n",
       "    </tr>\n",
       "    <tr>\n",
       "      <th>1541372</th>\n",
       "      <td>server30</td>\n",
       "      <td>19</td>\n",
       "      <td>20</td>\n",
       "      <td>Thu Jan  2 07:01:57 2020</td>\n",
       "    </tr>\n",
       "    <tr>\n",
       "      <th>1541373</th>\n",
       "      <td>server30</td>\n",
       "      <td>19</td>\n",
       "      <td>21</td>\n",
       "      <td>Thu Jan  2 08:01:57 2020</td>\n",
       "    </tr>\n",
       "    <tr>\n",
       "      <th>1541374</th>\n",
       "      <td>server30</td>\n",
       "      <td>18</td>\n",
       "      <td>21</td>\n",
       "      <td>Thu Jan  2 09:01:57 2020</td>\n",
       "    </tr>\n",
       "    <tr>\n",
       "      <th>1541375</th>\n",
       "      <td>server30</td>\n",
       "      <td>19</td>\n",
       "      <td>20</td>\n",
       "      <td>Thu Jan  2 10:01:57 2020</td>\n",
       "    </tr>\n",
       "  </tbody>\n",
       "</table>\n",
       "<p>1541376 rows × 4 columns</p>\n",
       "</div>"
      ],
      "text/plain": [
       "           Server  Average  Peak                      Time\n",
       "0        server01       21    22  Fri Dec 20 21:10:46 2013\n",
       "1        server01     -128  -128  Fri Dec 20 22:10:46 2013\n",
       "2        server01     -128  -128  Fri Dec 20 23:10:46 2013\n",
       "3        server01     -128  -128  Sat Dec 21 00:10:46 2013\n",
       "4        server01     -128  -128  Sat Dec 21 01:10:46 2013\n",
       "...           ...      ...   ...                       ...\n",
       "1541371  server30       19    20  Thu Jan  2 06:01:57 2020\n",
       "1541372  server30       19    20  Thu Jan  2 07:01:57 2020\n",
       "1541373  server30       19    21  Thu Jan  2 08:01:57 2020\n",
       "1541374  server30       18    21  Thu Jan  2 09:01:57 2020\n",
       "1541375  server30       19    20  Thu Jan  2 10:01:57 2020\n",
       "\n",
       "[1541376 rows x 4 columns]"
      ]
     },
     "execution_count": 3,
     "metadata": {},
     "output_type": "execute_result"
    }
   ],
   "source": [
    "temp"
   ]
  },
  {
   "cell_type": "markdown",
   "metadata": {},
   "source": [
    "Verifica a quantidade de linhas com valores nulos"
   ]
  },
  {
   "cell_type": "code",
   "execution_count": 4,
   "metadata": {},
   "outputs": [
    {
     "data": {
      "text/plain": [
       "Server     0\n",
       "Average    0\n",
       "Peak       0\n",
       "Time       0\n",
       "dtype: int64"
      ]
     },
     "execution_count": 4,
     "metadata": {},
     "output_type": "execute_result"
    }
   ],
   "source": [
    "temp.isnull().sum()"
   ]
  },
  {
   "cell_type": "code",
   "execution_count": 5,
   "metadata": {},
   "outputs": [
    {
     "data": {
      "text/plain": [
       "Server         0\n",
       "Severity       0\n",
       "Date           0\n",
       "Description    0\n",
       "dtype: int64"
      ]
     },
     "execution_count": 5,
     "metadata": {},
     "output_type": "execute_result"
    }
   ],
   "source": [
    "logs.isnull().sum()"
   ]
  },
  {
   "cell_type": "markdown",
   "metadata": {},
   "source": [
    "Remove as não-ocorrências de temperatura, ou seja, o servidor está desligado e isso é evidenciado com o atributo <code>Average</code> com valor de <code>-128</code>."
   ]
  },
  {
   "cell_type": "code",
   "execution_count": 6,
   "metadata": {},
   "outputs": [],
   "source": [
    "temp.drop(temp.index[temp['Average'] == -128], inplace = True)"
   ]
  },
  {
   "cell_type": "markdown",
   "metadata": {},
   "source": [
    "Transforma o atributo <code>Time</code> em tipo Date and cria um atributo <code>DateOnly</code> para posteriores comparações entre bases, além de ordenar a base de temperaturas em função do nome do servidor e do dia/hora."
   ]
  },
  {
   "cell_type": "code",
   "execution_count": 7,
   "metadata": {},
   "outputs": [
    {
     "data": {
      "text/html": [
       "<div>\n",
       "<style scoped>\n",
       "    .dataframe tbody tr th:only-of-type {\n",
       "        vertical-align: middle;\n",
       "    }\n",
       "\n",
       "    .dataframe tbody tr th {\n",
       "        vertical-align: top;\n",
       "    }\n",
       "\n",
       "    .dataframe thead th {\n",
       "        text-align: right;\n",
       "    }\n",
       "</style>\n",
       "<table border=\"1\" class=\"dataframe\">\n",
       "  <thead>\n",
       "    <tr style=\"text-align: right;\">\n",
       "      <th></th>\n",
       "      <th>Server</th>\n",
       "      <th>Average</th>\n",
       "      <th>Peak</th>\n",
       "      <th>Time</th>\n",
       "      <th>DateOnly</th>\n",
       "    </tr>\n",
       "  </thead>\n",
       "  <tbody>\n",
       "    <tr>\n",
       "      <th>0</th>\n",
       "      <td>server01</td>\n",
       "      <td>21</td>\n",
       "      <td>22</td>\n",
       "      <td>2013-12-20 21:10:46</td>\n",
       "      <td>2013-12-20</td>\n",
       "    </tr>\n",
       "    <tr>\n",
       "      <th>2448</th>\n",
       "      <td>server01</td>\n",
       "      <td>19</td>\n",
       "      <td>30</td>\n",
       "      <td>2014-04-01 22:10:47</td>\n",
       "      <td>2014-04-01</td>\n",
       "    </tr>\n",
       "    <tr>\n",
       "      <th>2449</th>\n",
       "      <td>server01</td>\n",
       "      <td>27</td>\n",
       "      <td>30</td>\n",
       "      <td>2014-04-01 23:10:47</td>\n",
       "      <td>2014-04-01</td>\n",
       "    </tr>\n",
       "    <tr>\n",
       "      <th>2450</th>\n",
       "      <td>server01</td>\n",
       "      <td>25</td>\n",
       "      <td>28</td>\n",
       "      <td>2014-04-02 00:10:47</td>\n",
       "      <td>2014-04-02</td>\n",
       "    </tr>\n",
       "    <tr>\n",
       "      <th>2451</th>\n",
       "      <td>server01</td>\n",
       "      <td>25</td>\n",
       "      <td>28</td>\n",
       "      <td>2014-04-02 01:10:47</td>\n",
       "      <td>2014-04-02</td>\n",
       "    </tr>\n",
       "    <tr>\n",
       "      <th>...</th>\n",
       "      <td>...</td>\n",
       "      <td>...</td>\n",
       "      <td>...</td>\n",
       "      <td>...</td>\n",
       "      <td>...</td>\n",
       "    </tr>\n",
       "    <tr>\n",
       "      <th>1541371</th>\n",
       "      <td>server30</td>\n",
       "      <td>19</td>\n",
       "      <td>20</td>\n",
       "      <td>2020-01-02 06:01:57</td>\n",
       "      <td>2020-01-02</td>\n",
       "    </tr>\n",
       "    <tr>\n",
       "      <th>1541372</th>\n",
       "      <td>server30</td>\n",
       "      <td>19</td>\n",
       "      <td>20</td>\n",
       "      <td>2020-01-02 07:01:57</td>\n",
       "      <td>2020-01-02</td>\n",
       "    </tr>\n",
       "    <tr>\n",
       "      <th>1541373</th>\n",
       "      <td>server30</td>\n",
       "      <td>19</td>\n",
       "      <td>21</td>\n",
       "      <td>2020-01-02 08:01:57</td>\n",
       "      <td>2020-01-02</td>\n",
       "    </tr>\n",
       "    <tr>\n",
       "      <th>1541374</th>\n",
       "      <td>server30</td>\n",
       "      <td>18</td>\n",
       "      <td>21</td>\n",
       "      <td>2020-01-02 09:01:57</td>\n",
       "      <td>2020-01-02</td>\n",
       "    </tr>\n",
       "    <tr>\n",
       "      <th>1541375</th>\n",
       "      <td>server30</td>\n",
       "      <td>19</td>\n",
       "      <td>20</td>\n",
       "      <td>2020-01-02 10:01:57</td>\n",
       "      <td>2020-01-02</td>\n",
       "    </tr>\n",
       "  </tbody>\n",
       "</table>\n",
       "<p>1453960 rows × 5 columns</p>\n",
       "</div>"
      ],
      "text/plain": [
       "           Server  Average  Peak                Time    DateOnly\n",
       "0        server01       21    22 2013-12-20 21:10:46  2013-12-20\n",
       "2448     server01       19    30 2014-04-01 22:10:47  2014-04-01\n",
       "2449     server01       27    30 2014-04-01 23:10:47  2014-04-01\n",
       "2450     server01       25    28 2014-04-02 00:10:47  2014-04-02\n",
       "2451     server01       25    28 2014-04-02 01:10:47  2014-04-02\n",
       "...           ...      ...   ...                 ...         ...\n",
       "1541371  server30       19    20 2020-01-02 06:01:57  2020-01-02\n",
       "1541372  server30       19    20 2020-01-02 07:01:57  2020-01-02\n",
       "1541373  server30       19    21 2020-01-02 08:01:57  2020-01-02\n",
       "1541374  server30       18    21 2020-01-02 09:01:57  2020-01-02\n",
       "1541375  server30       19    20 2020-01-02 10:01:57  2020-01-02\n",
       "\n",
       "[1453960 rows x 5 columns]"
      ]
     },
     "execution_count": 7,
     "metadata": {},
     "output_type": "execute_result"
    }
   ],
   "source": [
    "temp['Time']= pd.to_datetime(temp['Time'], format=\"%a %b %d %H:%M:%S %Y\")\n",
    "temp['DateOnly'] = temp['Time'].dt.date\n",
    "temp.sort_values(by=['Server', 'Time'])"
   ]
  },
  {
   "cell_type": "markdown",
   "metadata": {},
   "source": [
    "Agrupa as linhas em função do nome de servidor e data, sumariza atráves do agrupamento os atributos <code>Average</code> e <code>Peak</code> com informações de Mínimo, Máximo, Média, Mediana, Variância e Desvio Padrão.\n",
    "A operação de groupby adiciona uma nova linha de índices, pra isso é necessário realizar um ajuste para se manter uma só linha de índices sem perda de identidade das colunas."
   ]
  },
  {
   "cell_type": "code",
   "execution_count": 8,
   "metadata": {},
   "outputs": [],
   "source": [
    "temp_summary = temp.groupby(['Server','DateOnly'])[['Average','Peak']].agg(['min', 'max','mean','median','var','std']).reset_index()\n",
    "temp_summary.columns = [\"_\".join(x) for x in temp_summary.columns.ravel()]\n",
    "temp_summary.rename(columns={'Server_':'Server','DateOnly_':'DateOnly'},inplace=True)"
   ]
  },
  {
   "cell_type": "markdown",
   "metadata": {},
   "source": [
    "Remove as ocorrências da base de logs aonde a data tem formato inválido pois indica o System Boot da máquina e transforma o atributo <code>Date</code> em tipo Date. Cria o atributo <code>DateOnly</code> e orderna a base de logs em função do nome do servidor e o dia."
   ]
  },
  {
   "cell_type": "code",
   "execution_count": 9,
   "metadata": {},
   "outputs": [
    {
     "data": {
      "text/html": [
       "<div>\n",
       "<style scoped>\n",
       "    .dataframe tbody tr th:only-of-type {\n",
       "        vertical-align: middle;\n",
       "    }\n",
       "\n",
       "    .dataframe tbody tr th {\n",
       "        vertical-align: top;\n",
       "    }\n",
       "\n",
       "    .dataframe thead th {\n",
       "        text-align: right;\n",
       "    }\n",
       "</style>\n",
       "<table border=\"1\" class=\"dataframe\">\n",
       "  <thead>\n",
       "    <tr style=\"text-align: right;\">\n",
       "      <th></th>\n",
       "      <th>Server</th>\n",
       "      <th>Severity</th>\n",
       "      <th>Date</th>\n",
       "      <th>Description</th>\n",
       "      <th>DateOnly</th>\n",
       "    </tr>\n",
       "  </thead>\n",
       "  <tbody>\n",
       "    <tr>\n",
       "      <th>0</th>\n",
       "      <td>server01</td>\n",
       "      <td>Normal</td>\n",
       "      <td>2013-12-20 20:15:46</td>\n",
       "      <td>Log cleared.</td>\n",
       "      <td>2013-12-20</td>\n",
       "    </tr>\n",
       "    <tr>\n",
       "      <th>3</th>\n",
       "      <td>server01</td>\n",
       "      <td>Normal</td>\n",
       "      <td>2014-03-31 13:29:08</td>\n",
       "      <td>The input power for power supply 2 has been re...</td>\n",
       "      <td>2014-03-31</td>\n",
       "    </tr>\n",
       "    <tr>\n",
       "      <th>4</th>\n",
       "      <td>server01</td>\n",
       "      <td>Normal</td>\n",
       "      <td>2014-03-31 13:29:13</td>\n",
       "      <td>The power supplies are redundant.</td>\n",
       "      <td>2014-03-31</td>\n",
       "    </tr>\n",
       "    <tr>\n",
       "      <th>5</th>\n",
       "      <td>server01</td>\n",
       "      <td>Critical</td>\n",
       "      <td>2014-03-31 14:10:45</td>\n",
       "      <td>The power input for power supply 2 is lost.</td>\n",
       "      <td>2014-03-31</td>\n",
       "    </tr>\n",
       "    <tr>\n",
       "      <th>6</th>\n",
       "      <td>server01</td>\n",
       "      <td>Critical</td>\n",
       "      <td>2014-03-31 14:10:50</td>\n",
       "      <td>Power supply redundancy is lost.</td>\n",
       "      <td>2014-03-31</td>\n",
       "    </tr>\n",
       "    <tr>\n",
       "      <th>...</th>\n",
       "      <td>...</td>\n",
       "      <td>...</td>\n",
       "      <td>...</td>\n",
       "      <td>...</td>\n",
       "      <td>...</td>\n",
       "    </tr>\n",
       "    <tr>\n",
       "      <th>6363</th>\n",
       "      <td>server30</td>\n",
       "      <td>Critical</td>\n",
       "      <td>2019-05-21 13:35:57</td>\n",
       "      <td>Power supply redundancy is lost.</td>\n",
       "      <td>2019-05-21</td>\n",
       "    </tr>\n",
       "    <tr>\n",
       "      <th>6364</th>\n",
       "      <td>server30</td>\n",
       "      <td>Normal</td>\n",
       "      <td>2019-05-21 20:05:01</td>\n",
       "      <td>The input power for power supply 2 has been re...</td>\n",
       "      <td>2019-05-21</td>\n",
       "    </tr>\n",
       "    <tr>\n",
       "      <th>6365</th>\n",
       "      <td>server30</td>\n",
       "      <td>Normal</td>\n",
       "      <td>2019-05-21 20:05:07</td>\n",
       "      <td>The power supplies are redundant.</td>\n",
       "      <td>2019-05-21</td>\n",
       "    </tr>\n",
       "    <tr>\n",
       "      <th>6366</th>\n",
       "      <td>server30</td>\n",
       "      <td>Critical</td>\n",
       "      <td>2019-07-28 06:42:53</td>\n",
       "      <td>The power input for power supply 1 is lost.</td>\n",
       "      <td>2019-07-28</td>\n",
       "    </tr>\n",
       "    <tr>\n",
       "      <th>6367</th>\n",
       "      <td>server30</td>\n",
       "      <td>Critical</td>\n",
       "      <td>2019-07-28 06:42:56</td>\n",
       "      <td>Power supply redundancy is lost.</td>\n",
       "      <td>2019-07-28</td>\n",
       "    </tr>\n",
       "  </tbody>\n",
       "</table>\n",
       "<p>6307 rows × 5 columns</p>\n",
       "</div>"
      ],
      "text/plain": [
       "        Server  Severity                Date  \\\n",
       "0     server01    Normal 2013-12-20 20:15:46   \n",
       "3     server01    Normal 2014-03-31 13:29:08   \n",
       "4     server01    Normal 2014-03-31 13:29:13   \n",
       "5     server01  Critical 2014-03-31 14:10:45   \n",
       "6     server01  Critical 2014-03-31 14:10:50   \n",
       "...        ...       ...                 ...   \n",
       "6363  server30  Critical 2019-05-21 13:35:57   \n",
       "6364  server30    Normal 2019-05-21 20:05:01   \n",
       "6365  server30    Normal 2019-05-21 20:05:07   \n",
       "6366  server30  Critical 2019-07-28 06:42:53   \n",
       "6367  server30  Critical 2019-07-28 06:42:56   \n",
       "\n",
       "                                            Description    DateOnly  \n",
       "0                                          Log cleared.  2013-12-20  \n",
       "3     The input power for power supply 2 has been re...  2014-03-31  \n",
       "4                     The power supplies are redundant.  2014-03-31  \n",
       "5           The power input for power supply 2 is lost.  2014-03-31  \n",
       "6                      Power supply redundancy is lost.  2014-03-31  \n",
       "...                                                 ...         ...  \n",
       "6363                   Power supply redundancy is lost.  2019-05-21  \n",
       "6364  The input power for power supply 2 has been re...  2019-05-21  \n",
       "6365                  The power supplies are redundant.  2019-05-21  \n",
       "6366        The power input for power supply 1 is lost.  2019-07-28  \n",
       "6367                   Power supply redundancy is lost.  2019-07-28  \n",
       "\n",
       "[6307 rows x 5 columns]"
      ]
     },
     "execution_count": 9,
     "metadata": {},
     "output_type": "execute_result"
    }
   ],
   "source": [
    "logs.drop(logs.index[logs['Date'] == 'System Boot'], inplace = True)\n",
    "logs['Date']= pd.to_datetime(logs['Date'], format=\"%a %b %d %Y %H:%M:%S\")\n",
    "logs['DateOnly'] = logs['Date'].dt.date\n",
    "logs.sort_values(by=['Server', 'Date'])"
   ]
  },
  {
   "cell_type": "markdown",
   "metadata": {},
   "source": [
    "Combina as duas bases em uma só usando como índice o nome do servidor e o dia. Neste caso levou-se em consideração o fato de que nem todas as vezes que houve um registro de temperatura, necessariamente, houve um registro de alerta."
   ]
  },
  {
   "cell_type": "code",
   "execution_count": 10,
   "metadata": {},
   "outputs": [],
   "source": [
    "merged = pd.merge(temp_summary,logs, on=['Server', 'DateOnly'], how='left')"
   ]
  },
  {
   "cell_type": "markdown",
   "metadata": {},
   "source": [
    "Substitui o valores vazios (ausência de registro de log) da coluna <code>Severity</code> com o valor <code>NoneAlert</code>"
   ]
  },
  {
   "cell_type": "code",
   "execution_count": 11,
   "metadata": {
    "scrolled": true
   },
   "outputs": [],
   "source": [
    "merged.Severity.fillna(\"NoneAlert\", inplace=True)"
   ]
  },
  {
   "cell_type": "markdown",
   "metadata": {},
   "source": [
    "Adiciona o atributo categórico <code>TempSala</code> que indica se a sala de servidores estava quente, esquentando ou fria."
   ]
  },
  {
   "cell_type": "code",
   "execution_count": 12,
   "metadata": {},
   "outputs": [],
   "source": [
    "merged.loc[merged['Peak_max'] <= 26, 'TempSala'] = 'SalaFria'\n",
    "merged.loc[(merged['Peak_max'] > 26) & (merged['Peak_max'] <= 33), 'TempSala'] = 'SalaEsquentando'\n",
    "merged.loc[merged['Peak_max'] > 33, 'TempSala'] = 'SalaQuente'"
   ]
  },
  {
   "cell_type": "markdown",
   "metadata": {},
   "source": [
    "Amostra da base combinada"
   ]
  },
  {
   "cell_type": "code",
   "execution_count": 13,
   "metadata": {
    "scrolled": true
   },
   "outputs": [
    {
     "data": {
      "text/html": [
       "<div>\n",
       "<style scoped>\n",
       "    .dataframe tbody tr th:only-of-type {\n",
       "        vertical-align: middle;\n",
       "    }\n",
       "\n",
       "    .dataframe tbody tr th {\n",
       "        vertical-align: top;\n",
       "    }\n",
       "\n",
       "    .dataframe thead th {\n",
       "        text-align: right;\n",
       "    }\n",
       "</style>\n",
       "<table border=\"1\" class=\"dataframe\">\n",
       "  <thead>\n",
       "    <tr style=\"text-align: right;\">\n",
       "      <th></th>\n",
       "      <th>Server</th>\n",
       "      <th>DateOnly</th>\n",
       "      <th>Average_min</th>\n",
       "      <th>Average_max</th>\n",
       "      <th>Average_mean</th>\n",
       "      <th>Average_median</th>\n",
       "      <th>Average_var</th>\n",
       "      <th>Average_std</th>\n",
       "      <th>Peak_min</th>\n",
       "      <th>Peak_max</th>\n",
       "      <th>Peak_mean</th>\n",
       "      <th>Peak_median</th>\n",
       "      <th>Peak_var</th>\n",
       "      <th>Peak_std</th>\n",
       "      <th>Severity</th>\n",
       "      <th>Date</th>\n",
       "      <th>Description</th>\n",
       "      <th>TempSala</th>\n",
       "    </tr>\n",
       "  </thead>\n",
       "  <tbody>\n",
       "    <tr>\n",
       "      <th>0</th>\n",
       "      <td>server01</td>\n",
       "      <td>2013-12-20</td>\n",
       "      <td>21</td>\n",
       "      <td>21</td>\n",
       "      <td>21.000000</td>\n",
       "      <td>21.0</td>\n",
       "      <td>NaN</td>\n",
       "      <td>NaN</td>\n",
       "      <td>22</td>\n",
       "      <td>22</td>\n",
       "      <td>22.000000</td>\n",
       "      <td>22.0</td>\n",
       "      <td>NaN</td>\n",
       "      <td>NaN</td>\n",
       "      <td>Normal</td>\n",
       "      <td>2013-12-20 20:15:46</td>\n",
       "      <td>Log cleared.</td>\n",
       "      <td>SalaFria</td>\n",
       "    </tr>\n",
       "    <tr>\n",
       "      <th>1</th>\n",
       "      <td>server01</td>\n",
       "      <td>2014-04-01</td>\n",
       "      <td>19</td>\n",
       "      <td>27</td>\n",
       "      <td>23.000000</td>\n",
       "      <td>23.0</td>\n",
       "      <td>32.000000</td>\n",
       "      <td>5.656854</td>\n",
       "      <td>30</td>\n",
       "      <td>30</td>\n",
       "      <td>30.000000</td>\n",
       "      <td>30.0</td>\n",
       "      <td>0.000000</td>\n",
       "      <td>0.000000</td>\n",
       "      <td>Critical</td>\n",
       "      <td>2014-04-01 22:16:12</td>\n",
       "      <td>Power supply redundancy is lost.</td>\n",
       "      <td>SalaEsquentando</td>\n",
       "    </tr>\n",
       "    <tr>\n",
       "      <th>2</th>\n",
       "      <td>server01</td>\n",
       "      <td>2014-04-01</td>\n",
       "      <td>19</td>\n",
       "      <td>27</td>\n",
       "      <td>23.000000</td>\n",
       "      <td>23.0</td>\n",
       "      <td>32.000000</td>\n",
       "      <td>5.656854</td>\n",
       "      <td>30</td>\n",
       "      <td>30</td>\n",
       "      <td>30.000000</td>\n",
       "      <td>30.0</td>\n",
       "      <td>0.000000</td>\n",
       "      <td>0.000000</td>\n",
       "      <td>Critical</td>\n",
       "      <td>2014-04-01 22:16:17</td>\n",
       "      <td>The power input for power supply 2 is lost.</td>\n",
       "      <td>SalaEsquentando</td>\n",
       "    </tr>\n",
       "    <tr>\n",
       "      <th>3</th>\n",
       "      <td>server01</td>\n",
       "      <td>2014-04-02</td>\n",
       "      <td>16</td>\n",
       "      <td>27</td>\n",
       "      <td>21.500000</td>\n",
       "      <td>24.0</td>\n",
       "      <td>16.086957</td>\n",
       "      <td>4.010855</td>\n",
       "      <td>18</td>\n",
       "      <td>30</td>\n",
       "      <td>25.625000</td>\n",
       "      <td>28.0</td>\n",
       "      <td>13.461957</td>\n",
       "      <td>3.669054</td>\n",
       "      <td>NoneAlert</td>\n",
       "      <td>NaT</td>\n",
       "      <td>NaN</td>\n",
       "      <td>SalaEsquentando</td>\n",
       "    </tr>\n",
       "    <tr>\n",
       "      <th>4</th>\n",
       "      <td>server01</td>\n",
       "      <td>2014-04-03</td>\n",
       "      <td>17</td>\n",
       "      <td>23</td>\n",
       "      <td>18.625000</td>\n",
       "      <td>17.0</td>\n",
       "      <td>5.635870</td>\n",
       "      <td>2.373999</td>\n",
       "      <td>18</td>\n",
       "      <td>31</td>\n",
       "      <td>23.416667</td>\n",
       "      <td>22.0</td>\n",
       "      <td>21.557971</td>\n",
       "      <td>4.643056</td>\n",
       "      <td>NoneAlert</td>\n",
       "      <td>NaT</td>\n",
       "      <td>NaN</td>\n",
       "      <td>SalaEsquentando</td>\n",
       "    </tr>\n",
       "    <tr>\n",
       "      <th>...</th>\n",
       "      <td>...</td>\n",
       "      <td>...</td>\n",
       "      <td>...</td>\n",
       "      <td>...</td>\n",
       "      <td>...</td>\n",
       "      <td>...</td>\n",
       "      <td>...</td>\n",
       "      <td>...</td>\n",
       "      <td>...</td>\n",
       "      <td>...</td>\n",
       "      <td>...</td>\n",
       "      <td>...</td>\n",
       "      <td>...</td>\n",
       "      <td>...</td>\n",
       "      <td>...</td>\n",
       "      <td>...</td>\n",
       "      <td>...</td>\n",
       "      <td>...</td>\n",
       "    </tr>\n",
       "    <tr>\n",
       "      <th>65969</th>\n",
       "      <td>server30</td>\n",
       "      <td>2019-12-29</td>\n",
       "      <td>18</td>\n",
       "      <td>19</td>\n",
       "      <td>18.583333</td>\n",
       "      <td>19.0</td>\n",
       "      <td>0.253623</td>\n",
       "      <td>0.503610</td>\n",
       "      <td>19</td>\n",
       "      <td>21</td>\n",
       "      <td>20.125000</td>\n",
       "      <td>20.0</td>\n",
       "      <td>0.201087</td>\n",
       "      <td>0.448427</td>\n",
       "      <td>NoneAlert</td>\n",
       "      <td>NaT</td>\n",
       "      <td>NaN</td>\n",
       "      <td>SalaFria</td>\n",
       "    </tr>\n",
       "    <tr>\n",
       "      <th>65970</th>\n",
       "      <td>server30</td>\n",
       "      <td>2019-12-30</td>\n",
       "      <td>18</td>\n",
       "      <td>21</td>\n",
       "      <td>19.125000</td>\n",
       "      <td>19.0</td>\n",
       "      <td>0.288043</td>\n",
       "      <td>0.536697</td>\n",
       "      <td>20</td>\n",
       "      <td>23</td>\n",
       "      <td>20.708333</td>\n",
       "      <td>21.0</td>\n",
       "      <td>0.650362</td>\n",
       "      <td>0.806450</td>\n",
       "      <td>NoneAlert</td>\n",
       "      <td>NaT</td>\n",
       "      <td>NaN</td>\n",
       "      <td>SalaFria</td>\n",
       "    </tr>\n",
       "    <tr>\n",
       "      <th>65971</th>\n",
       "      <td>server30</td>\n",
       "      <td>2019-12-31</td>\n",
       "      <td>18</td>\n",
       "      <td>20</td>\n",
       "      <td>18.958333</td>\n",
       "      <td>19.0</td>\n",
       "      <td>0.128623</td>\n",
       "      <td>0.358641</td>\n",
       "      <td>20</td>\n",
       "      <td>22</td>\n",
       "      <td>20.208333</td>\n",
       "      <td>20.0</td>\n",
       "      <td>0.259058</td>\n",
       "      <td>0.508977</td>\n",
       "      <td>NoneAlert</td>\n",
       "      <td>NaT</td>\n",
       "      <td>NaN</td>\n",
       "      <td>SalaFria</td>\n",
       "    </tr>\n",
       "    <tr>\n",
       "      <th>65972</th>\n",
       "      <td>server30</td>\n",
       "      <td>2020-01-01</td>\n",
       "      <td>18</td>\n",
       "      <td>19</td>\n",
       "      <td>18.791667</td>\n",
       "      <td>19.0</td>\n",
       "      <td>0.172101</td>\n",
       "      <td>0.414851</td>\n",
       "      <td>20</td>\n",
       "      <td>20</td>\n",
       "      <td>20.000000</td>\n",
       "      <td>20.0</td>\n",
       "      <td>0.000000</td>\n",
       "      <td>0.000000</td>\n",
       "      <td>NoneAlert</td>\n",
       "      <td>NaT</td>\n",
       "      <td>NaN</td>\n",
       "      <td>SalaFria</td>\n",
       "    </tr>\n",
       "    <tr>\n",
       "      <th>65973</th>\n",
       "      <td>server30</td>\n",
       "      <td>2020-01-02</td>\n",
       "      <td>18</td>\n",
       "      <td>19</td>\n",
       "      <td>18.909091</td>\n",
       "      <td>19.0</td>\n",
       "      <td>0.090909</td>\n",
       "      <td>0.301511</td>\n",
       "      <td>20</td>\n",
       "      <td>21</td>\n",
       "      <td>20.181818</td>\n",
       "      <td>20.0</td>\n",
       "      <td>0.163636</td>\n",
       "      <td>0.404520</td>\n",
       "      <td>NoneAlert</td>\n",
       "      <td>NaT</td>\n",
       "      <td>NaN</td>\n",
       "      <td>SalaFria</td>\n",
       "    </tr>\n",
       "  </tbody>\n",
       "</table>\n",
       "<p>65974 rows × 18 columns</p>\n",
       "</div>"
      ],
      "text/plain": [
       "         Server    DateOnly  Average_min  Average_max  Average_mean  \\\n",
       "0      server01  2013-12-20           21           21     21.000000   \n",
       "1      server01  2014-04-01           19           27     23.000000   \n",
       "2      server01  2014-04-01           19           27     23.000000   \n",
       "3      server01  2014-04-02           16           27     21.500000   \n",
       "4      server01  2014-04-03           17           23     18.625000   \n",
       "...         ...         ...          ...          ...           ...   \n",
       "65969  server30  2019-12-29           18           19     18.583333   \n",
       "65970  server30  2019-12-30           18           21     19.125000   \n",
       "65971  server30  2019-12-31           18           20     18.958333   \n",
       "65972  server30  2020-01-01           18           19     18.791667   \n",
       "65973  server30  2020-01-02           18           19     18.909091   \n",
       "\n",
       "       Average_median  Average_var  Average_std  Peak_min  Peak_max  \\\n",
       "0                21.0          NaN          NaN        22        22   \n",
       "1                23.0    32.000000     5.656854        30        30   \n",
       "2                23.0    32.000000     5.656854        30        30   \n",
       "3                24.0    16.086957     4.010855        18        30   \n",
       "4                17.0     5.635870     2.373999        18        31   \n",
       "...               ...          ...          ...       ...       ...   \n",
       "65969            19.0     0.253623     0.503610        19        21   \n",
       "65970            19.0     0.288043     0.536697        20        23   \n",
       "65971            19.0     0.128623     0.358641        20        22   \n",
       "65972            19.0     0.172101     0.414851        20        20   \n",
       "65973            19.0     0.090909     0.301511        20        21   \n",
       "\n",
       "       Peak_mean  Peak_median   Peak_var  Peak_std   Severity  \\\n",
       "0      22.000000         22.0        NaN       NaN     Normal   \n",
       "1      30.000000         30.0   0.000000  0.000000   Critical   \n",
       "2      30.000000         30.0   0.000000  0.000000   Critical   \n",
       "3      25.625000         28.0  13.461957  3.669054  NoneAlert   \n",
       "4      23.416667         22.0  21.557971  4.643056  NoneAlert   \n",
       "...          ...          ...        ...       ...        ...   \n",
       "65969  20.125000         20.0   0.201087  0.448427  NoneAlert   \n",
       "65970  20.708333         21.0   0.650362  0.806450  NoneAlert   \n",
       "65971  20.208333         20.0   0.259058  0.508977  NoneAlert   \n",
       "65972  20.000000         20.0   0.000000  0.000000  NoneAlert   \n",
       "65973  20.181818         20.0   0.163636  0.404520  NoneAlert   \n",
       "\n",
       "                     Date                                  Description  \\\n",
       "0     2013-12-20 20:15:46                                 Log cleared.   \n",
       "1     2014-04-01 22:16:12             Power supply redundancy is lost.   \n",
       "2     2014-04-01 22:16:17  The power input for power supply 2 is lost.   \n",
       "3                     NaT                                          NaN   \n",
       "4                     NaT                                          NaN   \n",
       "...                   ...                                          ...   \n",
       "65969                 NaT                                          NaN   \n",
       "65970                 NaT                                          NaN   \n",
       "65971                 NaT                                          NaN   \n",
       "65972                 NaT                                          NaN   \n",
       "65973                 NaT                                          NaN   \n",
       "\n",
       "              TempSala  \n",
       "0             SalaFria  \n",
       "1      SalaEsquentando  \n",
       "2      SalaEsquentando  \n",
       "3      SalaEsquentando  \n",
       "4      SalaEsquentando  \n",
       "...                ...  \n",
       "65969         SalaFria  \n",
       "65970         SalaFria  \n",
       "65971         SalaFria  \n",
       "65972         SalaFria  \n",
       "65973         SalaFria  \n",
       "\n",
       "[65974 rows x 18 columns]"
      ]
     },
     "execution_count": 13,
     "metadata": {},
     "output_type": "execute_result"
    }
   ],
   "source": [
    "merged"
   ]
  },
  {
   "cell_type": "markdown",
   "metadata": {},
   "source": [
    "O atributo Severity será útil ao executar alguns modelos como o PCA na base merged, mas a maioria dos modelos requer que atributos categoricos sejam transformados em inteiros. Para isso, utilizaremos a técnica de One-Hot Encoding para isso.\n",
    "\n",
    "Abaixo podemos visualizar os possíveis valores para Severity.\n"
   ]
  },
  {
   "cell_type": "code",
   "execution_count": 14,
   "metadata": {},
   "outputs": [
    {
     "data": {
      "text/plain": [
       "array(['Normal', 'Critical', 'NoneAlert', 'Warning'], dtype=object)"
      ]
     },
     "execution_count": 14,
     "metadata": {},
     "output_type": "execute_result"
    }
   ],
   "source": [
    "merged.Severity.unique()"
   ]
  },
  {
   "cell_type": "markdown",
   "metadata": {},
   "source": [
    "Cria-se um dataset com os valores possíveis e utilizamos a função pd.get_dummies() para gerar as colunas numéricas."
   ]
  },
  {
   "cell_type": "code",
   "execution_count": 15,
   "metadata": {},
   "outputs": [],
   "source": [
    "df = pd.DataFrame({'Severity': ['NoneAlert','Normal', 'Critical', 'Warning']})\n",
    "merged = pd.concat([merged,pd.get_dummies(merged['Severity'], prefix='Severity')],axis=1)"
   ]
  },
  {
   "cell_type": "markdown",
   "metadata": {},
   "source": [
    "Semelhante ao tratamento dado ao atributo Severity, também fizemos uso do mesmo processo no atributo TempSala."
   ]
  },
  {
   "cell_type": "code",
   "execution_count": 16,
   "metadata": {},
   "outputs": [
    {
     "data": {
      "text/plain": [
       "array(['SalaFria', 'SalaEsquentando', 'SalaQuente'], dtype=object)"
      ]
     },
     "execution_count": 16,
     "metadata": {},
     "output_type": "execute_result"
    }
   ],
   "source": [
    "merged.TempSala.unique()"
   ]
  },
  {
   "cell_type": "code",
   "execution_count": 17,
   "metadata": {},
   "outputs": [],
   "source": [
    "df = pd.DataFrame({'TempSala': ['SalaFria','SalaEsquentando','SalaQuente']})\n",
    "merged = pd.concat([merged,pd.get_dummies(merged['TempSala'], prefix='TempSala')],axis=1)"
   ]
  },
  {
   "cell_type": "markdown",
   "metadata": {},
   "source": [
    "Uma amostra dos novos atributos."
   ]
  },
  {
   "cell_type": "code",
   "execution_count": 18,
   "metadata": {},
   "outputs": [
    {
     "data": {
      "text/html": [
       "<div>\n",
       "<style scoped>\n",
       "    .dataframe tbody tr th:only-of-type {\n",
       "        vertical-align: middle;\n",
       "    }\n",
       "\n",
       "    .dataframe tbody tr th {\n",
       "        vertical-align: top;\n",
       "    }\n",
       "\n",
       "    .dataframe thead th {\n",
       "        text-align: right;\n",
       "    }\n",
       "</style>\n",
       "<table border=\"1\" class=\"dataframe\">\n",
       "  <thead>\n",
       "    <tr style=\"text-align: right;\">\n",
       "      <th></th>\n",
       "      <th>Severity</th>\n",
       "      <th>Severity_Critical</th>\n",
       "      <th>Severity_NoneAlert</th>\n",
       "      <th>Severity_Normal</th>\n",
       "      <th>Severity_Warning</th>\n",
       "    </tr>\n",
       "  </thead>\n",
       "  <tbody>\n",
       "    <tr>\n",
       "      <th>0</th>\n",
       "      <td>Normal</td>\n",
       "      <td>0</td>\n",
       "      <td>0</td>\n",
       "      <td>1</td>\n",
       "      <td>0</td>\n",
       "    </tr>\n",
       "    <tr>\n",
       "      <th>1</th>\n",
       "      <td>Critical</td>\n",
       "      <td>1</td>\n",
       "      <td>0</td>\n",
       "      <td>0</td>\n",
       "      <td>0</td>\n",
       "    </tr>\n",
       "    <tr>\n",
       "      <th>2</th>\n",
       "      <td>Critical</td>\n",
       "      <td>1</td>\n",
       "      <td>0</td>\n",
       "      <td>0</td>\n",
       "      <td>0</td>\n",
       "    </tr>\n",
       "    <tr>\n",
       "      <th>3</th>\n",
       "      <td>NoneAlert</td>\n",
       "      <td>0</td>\n",
       "      <td>1</td>\n",
       "      <td>0</td>\n",
       "      <td>0</td>\n",
       "    </tr>\n",
       "    <tr>\n",
       "      <th>4</th>\n",
       "      <td>NoneAlert</td>\n",
       "      <td>0</td>\n",
       "      <td>1</td>\n",
       "      <td>0</td>\n",
       "      <td>0</td>\n",
       "    </tr>\n",
       "    <tr>\n",
       "      <th>...</th>\n",
       "      <td>...</td>\n",
       "      <td>...</td>\n",
       "      <td>...</td>\n",
       "      <td>...</td>\n",
       "      <td>...</td>\n",
       "    </tr>\n",
       "    <tr>\n",
       "      <th>65969</th>\n",
       "      <td>NoneAlert</td>\n",
       "      <td>0</td>\n",
       "      <td>1</td>\n",
       "      <td>0</td>\n",
       "      <td>0</td>\n",
       "    </tr>\n",
       "    <tr>\n",
       "      <th>65970</th>\n",
       "      <td>NoneAlert</td>\n",
       "      <td>0</td>\n",
       "      <td>1</td>\n",
       "      <td>0</td>\n",
       "      <td>0</td>\n",
       "    </tr>\n",
       "    <tr>\n",
       "      <th>65971</th>\n",
       "      <td>NoneAlert</td>\n",
       "      <td>0</td>\n",
       "      <td>1</td>\n",
       "      <td>0</td>\n",
       "      <td>0</td>\n",
       "    </tr>\n",
       "    <tr>\n",
       "      <th>65972</th>\n",
       "      <td>NoneAlert</td>\n",
       "      <td>0</td>\n",
       "      <td>1</td>\n",
       "      <td>0</td>\n",
       "      <td>0</td>\n",
       "    </tr>\n",
       "    <tr>\n",
       "      <th>65973</th>\n",
       "      <td>NoneAlert</td>\n",
       "      <td>0</td>\n",
       "      <td>1</td>\n",
       "      <td>0</td>\n",
       "      <td>0</td>\n",
       "    </tr>\n",
       "  </tbody>\n",
       "</table>\n",
       "<p>65974 rows × 5 columns</p>\n",
       "</div>"
      ],
      "text/plain": [
       "        Severity  Severity_Critical  Severity_NoneAlert  Severity_Normal  \\\n",
       "0         Normal                  0                   0                1   \n",
       "1       Critical                  1                   0                0   \n",
       "2       Critical                  1                   0                0   \n",
       "3      NoneAlert                  0                   1                0   \n",
       "4      NoneAlert                  0                   1                0   \n",
       "...          ...                ...                 ...              ...   \n",
       "65969  NoneAlert                  0                   1                0   \n",
       "65970  NoneAlert                  0                   1                0   \n",
       "65971  NoneAlert                  0                   1                0   \n",
       "65972  NoneAlert                  0                   1                0   \n",
       "65973  NoneAlert                  0                   1                0   \n",
       "\n",
       "       Severity_Warning  \n",
       "0                     0  \n",
       "1                     0  \n",
       "2                     0  \n",
       "3                     0  \n",
       "4                     0  \n",
       "...                 ...  \n",
       "65969                 0  \n",
       "65970                 0  \n",
       "65971                 0  \n",
       "65972                 0  \n",
       "65973                 0  \n",
       "\n",
       "[65974 rows x 5 columns]"
      ]
     },
     "execution_count": 18,
     "metadata": {},
     "output_type": "execute_result"
    }
   ],
   "source": [
    "merged.filter(regex=(\"Severity_*\"))"
   ]
  },
  {
   "cell_type": "code",
   "execution_count": 19,
   "metadata": {},
   "outputs": [
    {
     "data": {
      "text/html": [
       "<div>\n",
       "<style scoped>\n",
       "    .dataframe tbody tr th:only-of-type {\n",
       "        vertical-align: middle;\n",
       "    }\n",
       "\n",
       "    .dataframe tbody tr th {\n",
       "        vertical-align: top;\n",
       "    }\n",
       "\n",
       "    .dataframe thead th {\n",
       "        text-align: right;\n",
       "    }\n",
       "</style>\n",
       "<table border=\"1\" class=\"dataframe\">\n",
       "  <thead>\n",
       "    <tr style=\"text-align: right;\">\n",
       "      <th></th>\n",
       "      <th>TempSala</th>\n",
       "      <th>TempSala_SalaEsquentando</th>\n",
       "      <th>TempSala_SalaFria</th>\n",
       "      <th>TempSala_SalaQuente</th>\n",
       "    </tr>\n",
       "  </thead>\n",
       "  <tbody>\n",
       "    <tr>\n",
       "      <th>0</th>\n",
       "      <td>SalaFria</td>\n",
       "      <td>0</td>\n",
       "      <td>1</td>\n",
       "      <td>0</td>\n",
       "    </tr>\n",
       "    <tr>\n",
       "      <th>1</th>\n",
       "      <td>SalaEsquentando</td>\n",
       "      <td>1</td>\n",
       "      <td>0</td>\n",
       "      <td>0</td>\n",
       "    </tr>\n",
       "    <tr>\n",
       "      <th>2</th>\n",
       "      <td>SalaEsquentando</td>\n",
       "      <td>1</td>\n",
       "      <td>0</td>\n",
       "      <td>0</td>\n",
       "    </tr>\n",
       "    <tr>\n",
       "      <th>3</th>\n",
       "      <td>SalaEsquentando</td>\n",
       "      <td>1</td>\n",
       "      <td>0</td>\n",
       "      <td>0</td>\n",
       "    </tr>\n",
       "    <tr>\n",
       "      <th>4</th>\n",
       "      <td>SalaEsquentando</td>\n",
       "      <td>1</td>\n",
       "      <td>0</td>\n",
       "      <td>0</td>\n",
       "    </tr>\n",
       "    <tr>\n",
       "      <th>...</th>\n",
       "      <td>...</td>\n",
       "      <td>...</td>\n",
       "      <td>...</td>\n",
       "      <td>...</td>\n",
       "    </tr>\n",
       "    <tr>\n",
       "      <th>65969</th>\n",
       "      <td>SalaFria</td>\n",
       "      <td>0</td>\n",
       "      <td>1</td>\n",
       "      <td>0</td>\n",
       "    </tr>\n",
       "    <tr>\n",
       "      <th>65970</th>\n",
       "      <td>SalaFria</td>\n",
       "      <td>0</td>\n",
       "      <td>1</td>\n",
       "      <td>0</td>\n",
       "    </tr>\n",
       "    <tr>\n",
       "      <th>65971</th>\n",
       "      <td>SalaFria</td>\n",
       "      <td>0</td>\n",
       "      <td>1</td>\n",
       "      <td>0</td>\n",
       "    </tr>\n",
       "    <tr>\n",
       "      <th>65972</th>\n",
       "      <td>SalaFria</td>\n",
       "      <td>0</td>\n",
       "      <td>1</td>\n",
       "      <td>0</td>\n",
       "    </tr>\n",
       "    <tr>\n",
       "      <th>65973</th>\n",
       "      <td>SalaFria</td>\n",
       "      <td>0</td>\n",
       "      <td>1</td>\n",
       "      <td>0</td>\n",
       "    </tr>\n",
       "  </tbody>\n",
       "</table>\n",
       "<p>65974 rows × 4 columns</p>\n",
       "</div>"
      ],
      "text/plain": [
       "              TempSala  TempSala_SalaEsquentando  TempSala_SalaFria  \\\n",
       "0             SalaFria                         0                  1   \n",
       "1      SalaEsquentando                         1                  0   \n",
       "2      SalaEsquentando                         1                  0   \n",
       "3      SalaEsquentando                         1                  0   \n",
       "4      SalaEsquentando                         1                  0   \n",
       "...                ...                       ...                ...   \n",
       "65969         SalaFria                         0                  1   \n",
       "65970         SalaFria                         0                  1   \n",
       "65971         SalaFria                         0                  1   \n",
       "65972         SalaFria                         0                  1   \n",
       "65973         SalaFria                         0                  1   \n",
       "\n",
       "       TempSala_SalaQuente  \n",
       "0                        0  \n",
       "1                        0  \n",
       "2                        0  \n",
       "3                        0  \n",
       "4                        0  \n",
       "...                    ...  \n",
       "65969                    0  \n",
       "65970                    0  \n",
       "65971                    0  \n",
       "65972                    0  \n",
       "65973                    0  \n",
       "\n",
       "[65974 rows x 4 columns]"
      ]
     },
     "execution_count": 19,
     "metadata": {},
     "output_type": "execute_result"
    }
   ],
   "source": [
    "merged.filter(regex=(\"TempSala_*\"))"
   ]
  },
  {
   "cell_type": "markdown",
   "metadata": {},
   "source": [
    "Exporta as bases para CSV"
   ]
  },
  {
   "cell_type": "code",
   "execution_count": 20,
   "metadata": {},
   "outputs": [],
   "source": [
    "temp.to_csv(r'datasets_consolidados/temperatura.csv', index = False)\n",
    "logs.to_csv(r'datasets_consolidados/logs.csv', index = False)\n",
    "merged.to_csv(r'datasets_consolidados/merged.csv', index = False)"
   ]
  },
  {
   "cell_type": "markdown",
   "metadata": {},
   "source": [
    "## Análise e Exploração dos Dados"
   ]
  },
  {
   "cell_type": "code",
   "execution_count": 21,
   "metadata": {},
   "outputs": [],
   "source": [
    "import seaborn as sns\n",
    "import matplotlib.pyplot as plt\n",
    "\n",
    "from sklearn.preprocessing import StandardScaler\n",
    "from sklearn.decomposition import PCA"
   ]
  },
  {
   "cell_type": "markdown",
   "metadata": {},
   "source": [
    "Frequência de atributos importantes"
   ]
  },
  {
   "cell_type": "code",
   "execution_count": 22,
   "metadata": {},
   "outputs": [
    {
     "data": {
      "image/png": "[encoded data removed]",
      "text/plain": [
       "<Figure size 432x288 with 1 Axes>"
      ]
     },
     "metadata": {
      "needs_background": "light"
     },
     "output_type": "display_data"
    }
   ],
   "source": [
    "Severity = sns.countplot(merged['Severity'])"
   ]
  },
  {
   "cell_type": "code",
   "execution_count": 23,
   "metadata": {},
   "outputs": [
    {
     "data": {
      "image/png": "[encoded data removed]",
      "text/plain": [
       "<Figure size 432x288 with 1 Axes>"
      ]
     },
     "metadata": {
      "needs_background": "light"
     },
     "output_type": "display_data"
    }
   ],
   "source": [
    "TempSala = sns.countplot(merged['TempSala'])"
   ]
  },
  {
   "cell_type": "markdown",
   "metadata": {},
   "source": [
    "Avaliando as temperatuas de pico e média nos servidores."
   ]
  },
  {
   "cell_type": "code",
   "execution_count": 24,
   "metadata": {},
   "outputs": [
    {
     "data": {
      "image/png": "[encoded data removed]",
      "text/plain": [
       "<Figure size 360x360 with 1 Axes>"
      ]
     },
     "metadata": {
      "needs_background": "light"
     },
     "output_type": "display_data"
    }
   ],
   "source": [
    "sns.catplot(x=\"Peak_max\", y=\"Server\", data=merged);"
   ]
  },
  {
   "cell_type": "code",
   "execution_count": 25,
   "metadata": {},
   "outputs": [
    {
     "data": {
      "image/png": "[encoded data removed]",
      "text/plain": [
       "<Figure size 360x360 with 1 Axes>"
      ]
     },
     "metadata": {
      "needs_background": "light"
     },
     "output_type": "display_data"
    }
   ],
   "source": [
    "sns.catplot(x=\"Average_mean\", y=\"Server\", data=merged);"
   ]
  },
  {
   "cell_type": "markdown",
   "metadata": {},
   "source": [
    "Avaliando a distribuição de temperatura em relação aos códigos de erros Severity."
   ]
  },
  {
   "cell_type": "code",
   "execution_count": 26,
   "metadata": {},
   "outputs": [
    {
     "data": {
      "image/png": "[encoded data removed]",
      "text/plain": [
       "<Figure size 360x360 with 1 Axes>"
      ]
     },
     "metadata": {
      "needs_background": "light"
     },
     "output_type": "display_data"
    }
   ],
   "source": [
    "sns.catplot(x=\"Peak_max\", y=\"Severity\", data=merged);"
   ]
  },
  {
   "cell_type": "markdown",
   "metadata": {},
   "source": [
    "Mostra a matriz de correlação entre os atributos núméricos. Cores quentes (vermelho) indicam uma correlação positiva, cores frias (azul) indicam uma correlação negativa.\n"
   ]
  },
  {
   "cell_type": "code",
   "execution_count": 27,
   "metadata": {},
   "outputs": [
    {
     "data": {
      "text/plain": [
       "Text(0.5, 1.0, 'Matriz de Correlação')"
      ]
     },
     "execution_count": 27,
     "metadata": {},
     "output_type": "execute_result"
    },
    {
     "data": {
      "image/png": "[encoded data removed]",
      "text/plain": [
       "<Figure size 432x288 with 2 Axes>"
      ]
     },
     "metadata": {
      "needs_background": "light"
     },
     "output_type": "display_data"
    }
   ],
   "source": [
    "corrs = merged.corr()\n",
    "mask = np.zeros_like(corrs)\n",
    "mask[np.triu_indices_from(mask)] = True\n",
    "sns.heatmap(corrs, cmap='Spectral_r', mask=mask, square=True, vmin=-.4, vmax=.4)\n",
    "plt.title('Matriz de Correlação')"
   ]
  },
  {
   "cell_type": "markdown",
   "metadata": {},
   "source": [
    "## Criação de Modelos de Machine Learning"
   ]
  },
  {
   "cell_type": "markdown",
   "metadata": {},
   "source": [
    "### PCA - Principal Component Analisys"
   ]
  },
  {
   "cell_type": "markdown",
   "metadata": {},
   "source": [
    "PCA (Principal Component Analysis) é uma técnica para reduzir a dimensão de um conjunto de dados preservando suas propriedades.\n",
    "\n",
    "O modelo original tem uma oferta limitada de atributos, escolhemos utilizar a temperatura Média (min/max) e Picos (min/max) como features. Para executar o executar o PCA é necessário normalizar os valores."
   ]
  },
  {
   "cell_type": "code",
   "execution_count": 28,
   "metadata": {
    "scrolled": true
   },
   "outputs": [
    {
     "data": {
      "text/html": [
       "<div>\n",
       "<style scoped>\n",
       "    .dataframe tbody tr th:only-of-type {\n",
       "        vertical-align: middle;\n",
       "    }\n",
       "\n",
       "    .dataframe tbody tr th {\n",
       "        vertical-align: top;\n",
       "    }\n",
       "\n",
       "    .dataframe thead th {\n",
       "        text-align: right;\n",
       "    }\n",
       "</style>\n",
       "<table border=\"1\" class=\"dataframe\">\n",
       "  <thead>\n",
       "    <tr style=\"text-align: right;\">\n",
       "      <th></th>\n",
       "      <th>Average_max</th>\n",
       "      <th>Average_mean</th>\n",
       "      <th>Peak_max</th>\n",
       "    </tr>\n",
       "  </thead>\n",
       "  <tbody>\n",
       "    <tr>\n",
       "      <th>0</th>\n",
       "      <td>-0.020700</td>\n",
       "      <td>0.423849</td>\n",
       "      <td>-0.284166</td>\n",
       "    </tr>\n",
       "    <tr>\n",
       "      <th>1</th>\n",
       "      <td>0.927688</td>\n",
       "      <td>0.993535</td>\n",
       "      <td>0.882074</td>\n",
       "    </tr>\n",
       "    <tr>\n",
       "      <th>2</th>\n",
       "      <td>0.927688</td>\n",
       "      <td>0.993535</td>\n",
       "      <td>0.882074</td>\n",
       "    </tr>\n",
       "    <tr>\n",
       "      <th>3</th>\n",
       "      <td>0.927688</td>\n",
       "      <td>0.566270</td>\n",
       "      <td>0.882074</td>\n",
       "    </tr>\n",
       "    <tr>\n",
       "      <th>4</th>\n",
       "      <td>0.295429</td>\n",
       "      <td>-0.252653</td>\n",
       "      <td>1.027854</td>\n",
       "    </tr>\n",
       "  </tbody>\n",
       "</table>\n",
       "</div>"
      ],
      "text/plain": [
       "   Average_max  Average_mean  Peak_max\n",
       "0    -0.020700      0.423849 -0.284166\n",
       "1     0.927688      0.993535  0.882074\n",
       "2     0.927688      0.993535  0.882074\n",
       "3     0.927688      0.566270  0.882074\n",
       "4     0.295429     -0.252653  1.027854"
      ]
     },
     "execution_count": 28,
     "metadata": {},
     "output_type": "execute_result"
    }
   ],
   "source": [
    "features = ['Average_max','Average_mean','Peak_max']\n",
    "# Separating out the features\n",
    "x = merged.loc[:, features].values\n",
    "# Separating out the target\n",
    "y = merged.loc[:,['Severity']].values\n",
    "\n",
    "x = StandardScaler().fit_transform(x)\n",
    "pd.DataFrame(data = x, columns = features).head()"
   ]
  },
  {
   "cell_type": "markdown",
   "metadata": {},
   "source": [
    "Executando o PCA em duas dimensões."
   ]
  },
  {
   "cell_type": "code",
   "execution_count": 29,
   "metadata": {},
   "outputs": [
    {
     "data": {
      "text/html": [
       "<div>\n",
       "<style scoped>\n",
       "    .dataframe tbody tr th:only-of-type {\n",
       "        vertical-align: middle;\n",
       "    }\n",
       "\n",
       "    .dataframe tbody tr th {\n",
       "        vertical-align: top;\n",
       "    }\n",
       "\n",
       "    .dataframe thead th {\n",
       "        text-align: right;\n",
       "    }\n",
       "</style>\n",
       "<table border=\"1\" class=\"dataframe\">\n",
       "  <thead>\n",
       "    <tr style=\"text-align: right;\">\n",
       "      <th></th>\n",
       "      <th>principal component 1</th>\n",
       "      <th>principal component 2</th>\n",
       "    </tr>\n",
       "  </thead>\n",
       "  <tbody>\n",
       "    <tr>\n",
       "      <th>0</th>\n",
       "      <td>0.037163</td>\n",
       "      <td>-0.502696</td>\n",
       "    </tr>\n",
       "    <tr>\n",
       "      <th>1</th>\n",
       "      <td>1.608643</td>\n",
       "      <td>-0.189493</td>\n",
       "    </tr>\n",
       "    <tr>\n",
       "      <th>2</th>\n",
       "      <td>1.608643</td>\n",
       "      <td>-0.189493</td>\n",
       "    </tr>\n",
       "    <tr>\n",
       "      <th>3</th>\n",
       "      <td>1.389197</td>\n",
       "      <td>0.167884</td>\n",
       "    </tr>\n",
       "    <tr>\n",
       "      <th>4</th>\n",
       "      <td>0.660644</td>\n",
       "      <td>0.793676</td>\n",
       "    </tr>\n",
       "  </tbody>\n",
       "</table>\n",
       "</div>"
      ],
      "text/plain": [
       "   principal component 1  principal component 2\n",
       "0               0.037163              -0.502696\n",
       "1               1.608643              -0.189493\n",
       "2               1.608643              -0.189493\n",
       "3               1.389197               0.167884\n",
       "4               0.660644               0.793676"
      ]
     },
     "execution_count": 29,
     "metadata": {},
     "output_type": "execute_result"
    }
   ],
   "source": [
    "pca = PCA(n_components=2)\n",
    "principalComponents = pca.fit_transform(x)\n",
    "principalDf = pd.DataFrame(data = principalComponents\n",
    "             , columns = ['principal component 1', 'principal component 2'])\n",
    "principalDf.head(5)"
   ]
  },
  {
   "cell_type": "markdown",
   "metadata": {},
   "source": [
    "Depois de gerada a redução de atributos, é necessário fazer o join com o atributo classe."
   ]
  },
  {
   "cell_type": "code",
   "execution_count": 30,
   "metadata": {},
   "outputs": [
    {
     "data": {
      "text/html": [
       "<div>\n",
       "<style scoped>\n",
       "    .dataframe tbody tr th:only-of-type {\n",
       "        vertical-align: middle;\n",
       "    }\n",
       "\n",
       "    .dataframe tbody tr th {\n",
       "        vertical-align: top;\n",
       "    }\n",
       "\n",
       "    .dataframe thead th {\n",
       "        text-align: right;\n",
       "    }\n",
       "</style>\n",
       "<table border=\"1\" class=\"dataframe\">\n",
       "  <thead>\n",
       "    <tr style=\"text-align: right;\">\n",
       "      <th></th>\n",
       "      <th>principal component 1</th>\n",
       "      <th>principal component 2</th>\n",
       "      <th>Severity</th>\n",
       "    </tr>\n",
       "  </thead>\n",
       "  <tbody>\n",
       "    <tr>\n",
       "      <th>0</th>\n",
       "      <td>0.037163</td>\n",
       "      <td>-0.502696</td>\n",
       "      <td>Normal</td>\n",
       "    </tr>\n",
       "    <tr>\n",
       "      <th>1</th>\n",
       "      <td>1.608643</td>\n",
       "      <td>-0.189493</td>\n",
       "      <td>Critical</td>\n",
       "    </tr>\n",
       "    <tr>\n",
       "      <th>2</th>\n",
       "      <td>1.608643</td>\n",
       "      <td>-0.189493</td>\n",
       "      <td>Critical</td>\n",
       "    </tr>\n",
       "    <tr>\n",
       "      <th>3</th>\n",
       "      <td>1.389197</td>\n",
       "      <td>0.167884</td>\n",
       "      <td>NoneAlert</td>\n",
       "    </tr>\n",
       "    <tr>\n",
       "      <th>4</th>\n",
       "      <td>0.660644</td>\n",
       "      <td>0.793676</td>\n",
       "      <td>NoneAlert</td>\n",
       "    </tr>\n",
       "  </tbody>\n",
       "</table>\n",
       "</div>"
      ],
      "text/plain": [
       "   principal component 1  principal component 2   Severity\n",
       "0               0.037163              -0.502696     Normal\n",
       "1               1.608643              -0.189493   Critical\n",
       "2               1.608643              -0.189493   Critical\n",
       "3               1.389197               0.167884  NoneAlert\n",
       "4               0.660644               0.793676  NoneAlert"
      ]
     },
     "execution_count": 30,
     "metadata": {},
     "output_type": "execute_result"
    }
   ],
   "source": [
    "finalDf = pd.concat([principalDf, merged[['Severity']]], axis = 1)\n",
    "\n",
    "finalDf.head(5)"
   ]
  },
  {
   "cell_type": "markdown",
   "metadata": {},
   "source": [
    "Abaixo é plotado o gráfico do PCA para avaliar a distribuição dos clusters de classes."
   ]
  },
  {
   "cell_type": "code",
   "execution_count": 31,
   "metadata": {},
   "outputs": [
    {
     "data": {
      "image/png": "[encoded data removed]",
      "text/plain": [
       "<Figure size 576x576 with 1 Axes>"
      ]
     },
     "metadata": {
      "needs_background": "light"
     },
     "output_type": "display_data"
    }
   ],
   "source": [
    "fig = plt.figure(figsize = (8,8))\n",
    "ax = fig.add_subplot(1,1,1) \n",
    "ax.set_xlabel('Principal Component 1', fontsize = 15)\n",
    "ax.set_ylabel('Principal Component 2', fontsize = 15)\n",
    "ax.set_title('2 Component PCA', fontsize = 20)\n",
    "\n",
    "\n",
    "targets = [ 'NoneAlert','Normal', 'Warning','Critical']\n",
    "colors = [ 'b','g', 'y','r']\n",
    "for target, color in zip(targets,colors):\n",
    "    indicesToKeep = finalDf['Severity'] == target\n",
    "    ax.scatter(finalDf.loc[indicesToKeep, 'principal component 1']\n",
    "               , finalDf.loc[indicesToKeep, 'principal component 2']\n",
    "               , c = color\n",
    "               , s = 50)\n",
    "ax.legend(targets)\n",
    "ax.grid()"
   ]
  },
  {
   "cell_type": "markdown",
   "metadata": {},
   "source": [
    "### Modelo de Árvore de Decisão"
   ]
  },
  {
   "cell_type": "markdown",
   "metadata": {},
   "source": [
    "Ao executar modelos de aprendizado de máquina é necessário criar uma base de treino e uma base de teste, neste caso utilizamos uma proporção da base criada para o PCA distribuida em 70% treino e 30% teste."
   ]
  },
  {
   "cell_type": "code",
   "execution_count": 32,
   "metadata": {},
   "outputs": [],
   "source": [
    "import pandas as pd\n",
    "from sklearn.tree import DecisionTreeClassifier\n",
    "from sklearn.model_selection import train_test_split\n",
    "from sklearn import metrics,tree"
   ]
  },
  {
   "cell_type": "code",
   "execution_count": 33,
   "metadata": {},
   "outputs": [],
   "source": [
    "from sklearn.model_selection import train_test_split\n",
    "\n",
    "X_train, X_test, y_train, y_test = train_test_split(x, y, test_size=0.3, random_state=1)"
   ]
  },
  {
   "cell_type": "markdown",
   "metadata": {},
   "source": [
    "Roda o classificador de árvore de decisão."
   ]
  },
  {
   "cell_type": "code",
   "execution_count": 34,
   "metadata": {},
   "outputs": [],
   "source": [
    "clf = DecisionTreeClassifier()\n",
    "clf = clf.fit(X_train,y_train)\n",
    "y_pred = clf.predict(X_test)"
   ]
  },
  {
   "cell_type": "code",
   "execution_count": 35,
   "metadata": {},
   "outputs": [
    {
     "name": "stdout",
     "output_type": "stream",
     "text": [
      "Accuracy: 0.9271459606931743\n"
     ]
    }
   ],
   "source": [
    "print(\"Accuracy:\",metrics.accuracy_score(y_test, y_pred))"
   ]
  },
  {
   "cell_type": "markdown",
   "metadata": {},
   "source": [
    "Matrix de confusão"
   ]
  },
  {
   "cell_type": "code",
   "execution_count": 36,
   "metadata": {},
   "outputs": [
    {
     "data": {
      "text/plain": [
       "array([[  302,   290,   143,    71],\n",
       "       [  145, 17893,    25,     3],\n",
       "       [  188,   184,   101,    95],\n",
       "       [  141,    16,   141,    55]], dtype=int64)"
      ]
     },
     "execution_count": 36,
     "metadata": {},
     "output_type": "execute_result"
    }
   ],
   "source": [
    "from sklearn.metrics import confusion_matrix\n",
    "confusion_matrix(y_test, y_pred)"
   ]
  }
 ],
 "metadata": {
  "kernelspec": {
   "display_name": "Python 3",
   "language": "python",
   "name": "python3"
  },
  "language_info": {
   "codemirror_mode": {
    "name": "ipython",
    "version": 3
   },
   "file_extension": ".py",
   "mimetype": "text/x-python",
   "name": "python",
   "nbconvert_exporter": "python",
   "pygments_lexer": "ipython3",
   "version": "3.7.1"
  }
 },
 "nbformat": 4,
 "nbformat_minor": 4
}
